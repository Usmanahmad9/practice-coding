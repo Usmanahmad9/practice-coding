{
  "nbformat": 4,
  "nbformat_minor": 0,
  "metadata": {
    "colab": {
      "provenance": [],
      "authorship_tag": "ABX9TyNZDewxm2o8xwYixfu98cbb",
      "include_colab_link": true
    },
    "kernelspec": {
      "name": "python3",
      "display_name": "Python 3"
    },
    "language_info": {
      "name": "python"
    }
  },
  "cells": [
    {
      "cell_type": "markdown",
      "metadata": {
        "id": "view-in-github",
        "colab_type": "text"
      },
      "source": [
        "<a href=\"https://colab.research.google.com/github/Usmanahmad9/practice-coding/blob/main/basic_python_conditional_sta_.ipynb\" target=\"_parent\"><img src=\"https://colab.research.google.com/assets/colab-badge.svg\" alt=\"Open In Colab\"/></a>"
      ]
    },
    {
      "cell_type": "code",
      "execution_count": 6,
      "metadata": {
        "colab": {
          "base_uri": "https://localhost:8080/"
        },
        "id": "ZTXSfvdhS49W",
        "outputId": "0b55947d-8f83-45bb-d04e-7525cb383950"
      },
      "outputs": [
        {
          "output_type": "stream",
          "name": "stdout",
          "text": [
            "56\n",
            "equal\n"
          ]
        }
      ],
      "source": [
        "var1=6\n",
        "var2=56\n",
        "var3=int(input())\n",
        "if var3>var2:\n",
        "   print(\"greater\")\n",
        "elif var3==var2:\n",
        "  print(\"equal\")\n",
        "else:\n",
        "   print(\"lesser\")"
      ]
    },
    {
      "cell_type": "code",
      "source": [
        "print(\"what is your age?\")\n",
        "age=int(input())\n",
        "if age<18:\n",
        "  print(\"you cant drive\")\n",
        "elif age==18:\n",
        "  print(\"fill more information\")\n",
        "else:\n",
        "  print(\"you can drive\")"
      ],
      "metadata": {
        "colab": {
          "base_uri": "https://localhost:8080/"
        },
        "id": "XyR7xpLYWfeU",
        "outputId": "e97ef143-e990-4225-affd-a873d5ec5794"
      },
      "execution_count": 12,
      "outputs": [
        {
          "output_type": "stream",
          "name": "stdout",
          "text": [
            "what is your age?\n",
            "23\n",
            "you can drive\n"
          ]
        }
      ]
    },
    {
      "cell_type": "code",
      "source": [
        "print(\"what is your pet age?\")\n",
        "age=int(input())\n",
        "if age>4:\n",
        "  print(\"he is old\")\n",
        "elif age==3:\n",
        "  print(\"he is healthy\")\n",
        "else:\n",
        "  print(\"he is small\")"
      ],
      "metadata": {
        "colab": {
          "base_uri": "https://localhost:8080/"
        },
        "id": "4CyWLrQ3YfW9",
        "outputId": "181c373a-d1a4-4f3c-944d-1881cd7361bf"
      },
      "execution_count": 17,
      "outputs": [
        {
          "output_type": "stream",
          "name": "stdout",
          "text": [
            "what is your pet age?\n",
            "1\n",
            "he is small\n"
          ]
        }
      ]
    }
  ]
}