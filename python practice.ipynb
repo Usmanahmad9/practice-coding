{
  "nbformat": 4,
  "nbformat_minor": 0,
  "metadata": {
    "colab": {
      "provenance": [],
      "authorship_tag": "ABX9TyM5Bjr/YFzE5EZAw54SrDNI",
      "include_colab_link": true
    },
    "kernelspec": {
      "name": "python3",
      "display_name": "Python 3"
    },
    "language_info": {
      "name": "python"
    }
  },
  "cells": [
    {
      "cell_type": "markdown",
      "metadata": {
        "id": "view-in-github",
        "colab_type": "text"
      },
      "source": [
        "<a href=\"https://colab.research.google.com/github/Usmanahmad9/practice-coding/blob/main/python%20practice.ipynb\" target=\"_parent\"><img src=\"https://colab.research.google.com/assets/colab-badge.svg\" alt=\"Open In Colab\"/></a>"
      ]
    },
    {
      "cell_type": "code",
      "execution_count": 3,
      "metadata": {
        "colab": {
          "base_uri": "https://localhost:8080/"
        },
        "id": "zkD-0I2ALoNv",
        "outputId": "9e626d04-13f8-47fa-db10-ef1f2840bea0"
      },
      "outputs": [
        {
          "output_type": "stream",
          "name": "stdout",
          "text": [
            "8\n"
          ]
        }
      ],
      "source": [
        "a=2\n",
        "b=6\n",
        "c=sum((a, b))\n",
        "print(c)"
      ]
    },
    {
      "cell_type": "code",
      "source": [
        "def funtion1():\n",
        "    print(\"hello you are in funtion 1\")\n",
        "funtion1()\n",
        "    "
      ],
      "metadata": {
        "colab": {
          "base_uri": "https://localhost:8080/"
        },
        "id": "NozUtMlfNgzV",
        "outputId": "84dd44a1-dce5-4158-8ae9-757c347010f4"
      },
      "execution_count": 2,
      "outputs": [
        {
          "output_type": "stream",
          "name": "stdout",
          "text": [
            "hello you are in funtion 1\n"
          ]
        }
      ]
    },
    {
      "cell_type": "code",
      "source": [
        "def funtion2(a,b):\n",
        "    average=(a+b)/2\n",
        "    print(average)\n",
        "    return average\n",
        "v=funtion2(5,7)\n",
        "print(v)"
      ],
      "metadata": {
        "colab": {
          "base_uri": "https://localhost:8080/"
        },
        "id": "cZyyNOEYRSx4",
        "outputId": "831363ac-9445-438d-d08c-d5f9a02dba93"
      },
      "execution_count": 5,
      "outputs": [
        {
          "output_type": "stream",
          "name": "stdout",
          "text": [
            "6.0\n",
            "6.0\n"
          ]
        }
      ]
    },
    {
      "cell_type": "code",
      "source": [
        "def funtion1(a,b):\n",
        "    print(a+b)\n",
        "funtion1(5,7)"
      ],
      "metadata": {
        "colab": {
          "base_uri": "https://localhost:8080/"
        },
        "id": "Ujd6cAAmR0Vm",
        "outputId": "8bbc3e69-8a0b-4299-cbfc-d6464017b03a"
      },
      "execution_count": 9,
      "outputs": [
        {
          "output_type": "stream",
          "name": "stdout",
          "text": [
            "12\n"
          ]
        }
      ]
    },
    {
      "cell_type": "code",
      "source": [
        "var1=32\n",
        "var2=54\n",
        "print(var1+var2)"
      ],
      "metadata": {
        "colab": {
          "base_uri": "https://localhost:8080/"
        },
        "id": "WbhxjVjqTVPn",
        "outputId": "75646687-6258-4238-aa8e-201868dc2068"
      },
      "execution_count": 10,
      "outputs": [
        {
          "output_type": "stream",
          "name": "stdout",
          "text": [
            "86\n"
          ]
        }
      ]
    },
    {
      "cell_type": "code",
      "source": [
        "var1=\"5\"\n",
        "var2=\"4\"\n",
        "print(int(var1)+ int(var2))\n"
      ],
      "metadata": {
        "colab": {
          "base_uri": "https://localhost:8080/"
        },
        "id": "Cx408kNQT5Qj",
        "outputId": "09b84804-04a5-4dee-88d4-598bf8e22488"
      },
      "execution_count": 13,
      "outputs": [
        {
          "output_type": "stream",
          "name": "stdout",
          "text": [
            "9\n"
          ]
        }
      ]
    },
    {
      "cell_type": "code",
      "source": [
        "print(10*\"hello g\")"
      ],
      "metadata": {
        "colab": {
          "base_uri": "https://localhost:8080/"
        },
        "id": "h3QroIUiU9Oy",
        "outputId": "f99fd954-4666-4742-c31d-1ce3488a0e22"
      },
      "execution_count": 14,
      "outputs": [
        {
          "output_type": "stream",
          "name": "stdout",
          "text": [
            "hello ghello ghello ghello ghello ghello ghello ghello ghello ghello g\n"
          ]
        }
      ]
    },
    {
      "cell_type": "code",
      "source": [],
      "metadata": {
        "id": "Omc3LFUZVHPu"
      },
      "execution_count": null,
      "outputs": []
    }
  ]
}