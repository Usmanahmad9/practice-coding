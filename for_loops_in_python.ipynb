{
  "nbformat": 4,
  "nbformat_minor": 0,
  "metadata": {
    "colab": {
      "provenance": [],
      "authorship_tag": "ABX9TyOz7nlW1Zbh3KsKUD8B6q9k",
      "include_colab_link": true
    },
    "kernelspec": {
      "name": "python3",
      "display_name": "Python 3"
    },
    "language_info": {
      "name": "python"
    }
  },
  "cells": [
    {
      "cell_type": "markdown",
      "metadata": {
        "id": "view-in-github",
        "colab_type": "text"
      },
      "source": [
        "<a href=\"https://colab.research.google.com/github/Usmanahmad9/practice-coding/blob/main/for_loops_in_python.ipynb\" target=\"_parent\"><img src=\"https://colab.research.google.com/assets/colab-badge.svg\" alt=\"Open In Colab\"/></a>"
      ]
    },
    {
      "cell_type": "code",
      "execution_count": 5,
      "metadata": {
        "colab": {
          "base_uri": "https://localhost:8080/"
        },
        "id": "ke_m10NyaoJB",
        "outputId": "2f87ed68-8c86-4b77-85ba-321f4af3f232"
      },
      "outputs": [
        {
          "output_type": "stream",
          "name": "stdout",
          "text": [
            "usman\n",
            "waqar\n",
            "bilal\n",
            "shaheel\n",
            "shaqeeb\n"
          ]
        }
      ],
      "source": [
        "list1=[\"usman\",\"waqar\",\"bilal\",\"shaheel\",\"shaqeeb\"]\n",
        "for item in list1:\n",
        "  print(item)"
      ]
    },
    {
      "cell_type": "code",
      "source": [
        "list1=[[\"honda civic\", 45],[\"mehran\",10],[\"alto\", 25]]\n",
        "for item,price in list1:\n",
        "  print(item,\"price is\",price)"
      ],
      "metadata": {
        "colab": {
          "base_uri": "https://localhost:8080/"
        },
        "id": "hTfQ43p8b2-0",
        "outputId": "68468000-97fe-4a47-dca9-f8840ece4a92"
      },
      "execution_count": 10,
      "outputs": [
        {
          "output_type": "stream",
          "name": "stdout",
          "text": [
            "honda civic price is 45\n",
            "mehran price is 10\n",
            "alto price is 25\n"
          ]
        }
      ]
    },
    {
      "cell_type": "code",
      "source": [
        "list2=[8,9,455,655,3,2,4,5,980,76,56]\n",
        "for item in list2:\n",
        "  if item>6:\n",
        "    print(item)"
      ],
      "metadata": {
        "colab": {
          "base_uri": "https://localhost:8080/"
        },
        "id": "DjCJ2mCxdWKT",
        "outputId": "330d2a1c-6b04-4862-af33-26c4092a5457"
      },
      "execution_count": 15,
      "outputs": [
        {
          "output_type": "stream",
          "name": "stdout",
          "text": [
            "8\n",
            "9\n",
            "455\n",
            "655\n",
            "980\n",
            "76\n",
            "56\n"
          ]
        }
      ]
    }
  ]
}