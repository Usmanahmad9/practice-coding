{
  "nbformat": 4,
  "nbformat_minor": 0,
  "metadata": {
    "colab": {
      "provenance": [],
      "authorship_tag": "ABX9TyP9logOgHavsUnCSSIphjLB",
      "include_colab_link": true
    },
    "kernelspec": {
      "name": "python3",
      "display_name": "Python 3"
    },
    "language_info": {
      "name": "python"
    }
  },
  "cells": [
    {
      "cell_type": "markdown",
      "metadata": {
        "id": "view-in-github",
        "colab_type": "text"
      },
      "source": [
        "<a href=\"https://colab.research.google.com/github/Usmanahmad9/practice-coding/blob/main/dic_and_syntx_basic_python.ipynb\" target=\"_parent\"><img src=\"https://colab.research.google.com/assets/colab-badge.svg\" alt=\"Open In Colab\"/></a>"
      ]
    },
    {
      "cell_type": "code",
      "execution_count": 5,
      "metadata": {
        "colab": {
          "base_uri": "https://localhost:8080/"
        },
        "id": "s9lt164LqY07",
        "outputId": "12fd9b89-9b8a-4cee-a575-333b2b3a5299"
      },
      "outputs": [
        {
          "output_type": "stream",
          "name": "stdout",
          "text": [
            "usman\n",
            "bilal\n",
            "waqar\n"
          ]
        }
      ],
      "source": [
        "list1=[\"usman\",\"bilal\",\"waqar\"]\n",
        "for item in list1:\n",
        "   print(item)"
      ]
    },
    {
      "cell_type": "code",
      "source": [
        "a=55\n",
        "b=15\n",
        "print(a%b)"
      ],
      "metadata": {
        "colab": {
          "base_uri": "https://localhost:8080/"
        },
        "id": "LcxKAXJvvBUS",
        "outputId": "26e757f1-d6a5-494a-de6c-e6c3ef1b81e4"
      },
      "execution_count": 12,
      "outputs": [
        {
          "output_type": "stream",
          "name": "stdout",
          "text": [
            "10\n"
          ]
        }
      ]
    },
    {
      "cell_type": "code",
      "source": [
        "#dic and syntx"
      ],
      "metadata": {
        "id": "2JgUT18_vsZM"
      },
      "execution_count": null,
      "outputs": []
    },
    {
      "cell_type": "code",
      "source": [
        "mydic={\n",
        "    \"topic\":\"nokia and fall of nokia company\",\n",
        "    \"table\":\"what is on the table\" ,\n",
        "}\n",
        "print(mydic['topic'])\n",
        "print(mydic['table'])"
      ],
      "metadata": {
        "colab": {
          "base_uri": "https://localhost:8080/"
        },
        "id": "JX1zJCf1zfPq",
        "outputId": "f367f17e-9c6f-4d3a-ae15-2cdc2a4415f7"
      },
      "execution_count": 14,
      "outputs": [
        {
          "output_type": "stream",
          "name": "stdout",
          "text": [
            "nokia and fall of nokia company\n",
            "what is on the table\n"
          ]
        }
      ]
    },
    {
      "cell_type": "code",
      "source": [
        "a={}\n",
        "print(type(a))"
      ],
      "metadata": {
        "colab": {
          "base_uri": "https://localhost:8080/"
        },
        "id": "1ZE9ocsp0Rvu",
        "outputId": "97a192b0-6342-4f94-c8f5-8387eab94c6b"
      },
      "execution_count": 15,
      "outputs": [
        {
          "output_type": "stream",
          "name": "stdout",
          "text": [
            "<class 'dict'>\n"
          ]
        }
      ]
    },
    {
      "cell_type": "code",
      "source": [
        "a=set()\n",
        "print(type(a))\n",
        "a.add(4)\n",
        "a.add(6)\n",
        "print(a)"
      ],
      "metadata": {
        "colab": {
          "base_uri": "https://localhost:8080/"
        },
        "id": "ZAxWWngs1VU3",
        "outputId": "28e227dd-f634-46b6-dc9a-02437c4de808"
      },
      "execution_count": 18,
      "outputs": [
        {
          "output_type": "stream",
          "name": "stdout",
          "text": [
            "<class 'set'>\n",
            "{4, 6}\n"
          ]
        }
      ]
    },
    {
      "cell_type": "code",
      "source": [],
      "metadata": {
        "id": "AN2_Ggqk1cxw"
      },
      "execution_count": null,
      "outputs": []
    }
  ]
}